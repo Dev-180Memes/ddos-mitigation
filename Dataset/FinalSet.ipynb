{
 "cells": [
  {
   "cell_type": "code",
   "execution_count": 1,
   "id": "a071c1a4-d66a-4225-8a77-d344bd07eae1",
   "metadata": {},
   "outputs": [],
   "source": [
    "import numpy as np\n",
    "import pandas as pd"
   ]
  },
  {
   "cell_type": "code",
   "execution_count": 2,
   "id": "2da50d70-7ba9-4506-990b-23cec709a97c",
   "metadata": {},
   "outputs": [],
   "source": [
    "dns = pd.read_csv(\"01-12-Clean/DNS_Clean.csv\")\n",
    "ldap = pd.read_csv(\"01-12-Clean/LDAP_Clean.csv\")\n",
    "mssql = pd.read_csv(\"01-12-Clean/MSSQL_Clean.csv\")"
   ]
  },
  {
   "cell_type": "code",
   "execution_count": 3,
   "id": "5b371754-11a2-4eba-8c24-bbaf4f06e582",
   "metadata": {},
   "outputs": [],
   "source": [
    "netbios = pd.read_csv(\"01-12-Clean/NetBIOS_Clean.csv\")\n",
    "ntp = pd.read_csv(\"01-12-Clean/NTP_Clean.csv\")\n",
    "snmp = pd.read_csv(\"01-12-Clean/SNMP_Clean.csv\")\n",
    "ssdp = pd.read_csv(\"01-12-Clean/SSDP_Clean.csv\")\n",
    "syn = pd.read_csv(\"01-12-Clean/SYN_Clean.csv\")\n",
    "tftp = pd.read_csv(\"01-12-Clean/SYN_Clean.csv\")\n",
    "udp = pd.read_csv(\"01-12-Clean/UDP_Clean.csv\")"
   ]
  },
  {
   "cell_type": "code",
   "execution_count": 4,
   "id": "dda868ea-2d10-496f-a869-359bda0e5f80",
   "metadata": {},
   "outputs": [
    {
     "data": {
      "text/plain": [
       "(5074413, 83)"
      ]
     },
     "execution_count": 4,
     "metadata": {},
     "output_type": "execute_result"
    }
   ],
   "source": [
    "dns.shape"
   ]
  },
  {
   "cell_type": "code",
   "execution_count": 5,
   "id": "e1b9bf5d-67a3-4eac-bc4c-04e117e3d4d0",
   "metadata": {},
   "outputs": [
    {
     "data": {
      "text/plain": [
       "(2181542, 83)"
      ]
     },
     "execution_count": 5,
     "metadata": {},
     "output_type": "execute_result"
    }
   ],
   "source": [
    "ldap.shape"
   ]
  },
  {
   "cell_type": "code",
   "execution_count": 6,
   "id": "8481fe65-de8f-4f03-b789-61a69dbff483",
   "metadata": {},
   "outputs": [
    {
     "data": {
      "text/plain": [
       "(4524498, 83)"
      ]
     },
     "execution_count": 6,
     "metadata": {},
     "output_type": "execute_result"
    }
   ],
   "source": [
    "mssql.shape"
   ]
  },
  {
   "cell_type": "code",
   "execution_count": 7,
   "id": "d0ec74cd-fb7c-4003-8757-119779868237",
   "metadata": {},
   "outputs": [
    {
     "data": {
      "text/plain": [
       "(4094986, 83)"
      ]
     },
     "execution_count": 7,
     "metadata": {},
     "output_type": "execute_result"
    }
   ],
   "source": [
    "netbios.shape"
   ]
  },
  {
   "cell_type": "code",
   "execution_count": 8,
   "id": "4e30eb05-61a3-443b-b475-a1308d9a581f",
   "metadata": {},
   "outputs": [
    {
     "data": {
      "text/plain": [
       "(1217007, 83)"
      ]
     },
     "execution_count": 8,
     "metadata": {},
     "output_type": "execute_result"
    }
   ],
   "source": [
    "ntp.shape"
   ]
  },
  {
   "cell_type": "code",
   "execution_count": 9,
   "id": "579ab5df-aa89-4cd9-b8fa-5c3995ac3cca",
   "metadata": {},
   "outputs": [
    {
     "data": {
      "text/plain": [
       "(5161377, 83)"
      ]
     },
     "execution_count": 9,
     "metadata": {},
     "output_type": "execute_result"
    }
   ],
   "source": [
    "snmp.shape"
   ]
  },
  {
   "cell_type": "code",
   "execution_count": 10,
   "id": "97cd75ee-d42b-40b9-a8b6-f55d557708a6",
   "metadata": {},
   "outputs": [
    {
     "data": {
      "text/plain": [
       "(2611374, 83)"
      ]
     },
     "execution_count": 10,
     "metadata": {},
     "output_type": "execute_result"
    }
   ],
   "source": [
    "ssdp.shape"
   ]
  },
  {
   "cell_type": "code",
   "execution_count": 11,
   "id": "bd6caa52-5bd6-41f6-b7b1-ac27da33c87b",
   "metadata": {},
   "outputs": [
    {
     "data": {
      "text/plain": [
       "(1582681, 83)"
      ]
     },
     "execution_count": 11,
     "metadata": {},
     "output_type": "execute_result"
    }
   ],
   "source": [
    "syn.shape"
   ]
  },
  {
   "cell_type": "code",
   "execution_count": 12,
   "id": "d611f350-ed7e-4ab7-9721-860e3b397b3e",
   "metadata": {},
   "outputs": [
    {
     "data": {
      "text/plain": [
       "(1582681, 83)"
      ]
     },
     "execution_count": 12,
     "metadata": {},
     "output_type": "execute_result"
    }
   ],
   "source": [
    "tftp.shape"
   ]
  },
  {
   "cell_type": "code",
   "execution_count": 13,
   "id": "d23aafe4-9e70-4a3c-90f0-4545cf331a13",
   "metadata": {},
   "outputs": [
    {
     "data": {
      "text/plain": [
       "(3136802, 83)"
      ]
     },
     "execution_count": 13,
     "metadata": {},
     "output_type": "execute_result"
    }
   ],
   "source": [
    "udp.shape"
   ]
  },
  {
   "cell_type": "code",
   "execution_count": 14,
   "id": "9832e1c0-b1cd-4f72-b9df-9f0fbc673af7",
   "metadata": {},
   "outputs": [],
   "source": [
    "df = pd.concat([dns, ldap, mssql, netbios, ntp, snmp, ssdp, syn, tftp, udp])"
   ]
  },
  {
   "cell_type": "code",
   "execution_count": 15,
   "id": "849a8c15-90fb-4a0a-b60f-0359aa292902",
   "metadata": {},
   "outputs": [
    {
     "data": {
      "text/plain": [
       "(31167361, 83)"
      ]
     },
     "execution_count": 15,
     "metadata": {},
     "output_type": "execute_result"
    }
   ],
   "source": [
    "df.shape"
   ]
  },
  {
   "cell_type": "code",
   "execution_count": null,
   "id": "d5a096ea-682e-4aa0-bc73-02a54effcef4",
   "metadata": {},
   "outputs": [],
   "source": [
    "df = df.sample(frac=1, random_state=1).reset_index()"
   ]
  },
  {
   "cell_type": "code",
   "execution_count": null,
   "id": "124a040f-3f93-4692-89c9-194e6c8325f1",
   "metadata": {},
   "outputs": [],
   "source": [
    "df.head"
   ]
  },
  {
   "cell_type": "code",
   "execution_count": null,
   "id": "981afa98-79d7-4b7d-b475-bc3e1e5b0108",
   "metadata": {},
   "outputs": [],
   "source": []
  }
 ],
 "metadata": {
  "kernelspec": {
   "display_name": "Python 3 (ipykernel)",
   "language": "python",
   "name": "python3"
  },
  "language_info": {
   "codemirror_mode": {
    "name": "ipython",
    "version": 3
   },
   "file_extension": ".py",
   "mimetype": "text/x-python",
   "name": "python",
   "nbconvert_exporter": "python",
   "pygments_lexer": "ipython3",
   "version": "3.9.12"
  }
 },
 "nbformat": 4,
 "nbformat_minor": 5
}
